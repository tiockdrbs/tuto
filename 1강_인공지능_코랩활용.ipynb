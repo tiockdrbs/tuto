{
  "nbformat": 4,
  "nbformat_minor": 0,
  "metadata": {
    "colab": {
      "provenance": [],
      "authorship_tag": "ABX9TyMOe/ThWGZf3x1NxbjI8MXl",
      "include_colab_link": true
    },
    "kernelspec": {
      "name": "python3",
      "display_name": "Python 3"
    },
    "language_info": {
      "name": "python"
    },
    "accelerator": "GPU",
    "gpuClass": "standard"
  },
  "cells": [
    {
      "cell_type": "markdown",
      "metadata": {
        "id": "view-in-github",
        "colab_type": "text"
      },
      "source": [
        "<a href=\"https://colab.research.google.com/github/tiockdrbs/tuto/blob/main/1%EA%B0%95_%EC%9D%B8%EA%B3%B5%EC%A7%80%EB%8A%A5_%EC%BD%94%EB%9E%A9%ED%99%9C%EC%9A%A9.ipynb\" target=\"_parent\"><img src=\"https://colab.research.google.com/assets/colab-badge.svg\" alt=\"Open In Colab\"/></a>"
      ]
    },
    {
      "cell_type": "markdown",
      "source": [
        "## Colab 기본 단축키\n",
        "**ctrl + m + a : 현재 셀 위에 코드셀 하나 추가**\n",
        "\n",
        "**ctrl + m + b : 현재 셀 아래에 코드셀 하나 추가**\n",
        "\n",
        "**ctrl + m + m : 코드셀을 텍스트셀 변환**\n",
        "\n",
        "**ctrl + m + y : 텍스트셀을 코드셀로 변환**\n",
        "\n",
        "**ctrl + m + d : 현재 셀 삭제**\n",
        "\n",
        "**ctrl + enter : 현재 셀을 실행하고 위치 그대로 유지**\n",
        "\n",
        "**shift + enter : 현재 셀을 실행하고 아래에 코드셀을 하나 추가함**\n",
        "\n"
      ],
      "metadata": {
        "id": "c7LOR0uzpMLg"
      }
    },
    {
      "cell_type": "markdown",
      "source": [
        "## 작업공간 확인"
      ],
      "metadata": {
        "id": "b0xgVC5ar-uw"
      }
    },
    {
      "cell_type": "code",
      "source": [
        "#현재 작업 위치를 확인함\n",
        "%pwd"
      ],
      "metadata": {
        "colab": {
          "base_uri": "https://localhost:8080/",
          "height": 35
        },
        "id": "ciy_rjUdqk-n",
        "outputId": "05f97fd2-4a85-4fb4-d82f-42f3e51ed402"
      },
      "execution_count": null,
      "outputs": [
        {
          "output_type": "execute_result",
          "data": {
            "text/plain": [
              "'/content/sample_data'"
            ],
            "application/vnd.google.colaboratory.intrinsic+json": {
              "type": "string"
            }
          },
          "metadata": {},
          "execution_count": 8
        }
      ]
    },
    {
      "cell_type": "code",
      "source": [
        "#작업 위치를 변경함\n",
        "%cd /content/sample_data/"
      ],
      "metadata": {
        "colab": {
          "base_uri": "https://localhost:8080/"
        },
        "id": "2y938yhuqmeX",
        "outputId": "efe2107b-9fbd-46a8-a5dd-8caef03965a6"
      },
      "execution_count": null,
      "outputs": [
        {
          "output_type": "stream",
          "name": "stdout",
          "text": [
            "/content/sample_data\n"
          ]
        }
      ]
    },
    {
      "cell_type": "code",
      "source": [
        "%ls"
      ],
      "metadata": {
        "colab": {
          "base_uri": "https://localhost:8080/"
        },
        "id": "5jQWXkJNsILz",
        "outputId": "fb58e875-8f86-4ff3-feea-810dec1cede4"
      },
      "execution_count": null,
      "outputs": [
        {
          "output_type": "stream",
          "name": "stdout",
          "text": [
            "\u001b[0m\u001b[01;32manscombe.json\u001b[0m*                mnist_test.csv\n",
            "california_housing_test.csv   mnist_train_small.csv\n",
            "california_housing_train.csv  \u001b[01;32mREADME.md\u001b[0m*\n"
          ]
        }
      ]
    },
    {
      "cell_type": "code",
      "source": [
        "from google.colab import drive\n",
        "drive.mount(\"/content/drive\")"
      ],
      "metadata": {
        "id": "n3J71JHks39Z"
      },
      "execution_count": null,
      "outputs": []
    },
    {
      "cell_type": "markdown",
      "source": [
        "## 변수\n",
        "**변수 : 값을 담는 주머니**\n",
        "\n",
        "**할당 연산자 : 변수의 값을 할당시켜주는 연산을 의미하는 기호**\n",
        "\n",
        "**할당 연산자의 종류에는 =이고, 그 외에 다양한 할당 연산자가 존재함**"
      ],
      "metadata": {
        "id": "YXADKMq_rGHi"
      }
    },
    {
      "cell_type": "code",
      "source": [
        "a=10\n",
        "b=20"
      ],
      "metadata": {
        "id": "eEBicVMIrmUj"
      },
      "execution_count": null,
      "outputs": []
    },
    {
      "cell_type": "markdown",
      "source": [
        "## 데이터 타입(자료형)\n",
        "**수치형(Numeric)**\n",
        "\n",
        "- 숫자로 이루어진 자료형\n",
        "- int : 정수이며 integer의 약자\n",
        "- float : 실수이며 floating의 약자\n",
        "- 숫자끼리 연산이 가능"
      ],
      "metadata": {
        "id": "96aFD1p7tmqe"
      }
    },
    {
      "cell_type": "code",
      "source": [
        "a = 50\n",
        "type(a)"
      ],
      "metadata": {
        "colab": {
          "base_uri": "https://localhost:8080/"
        },
        "id": "p5p3LD9Nsnlr",
        "outputId": "6a0cfb9b-965c-4816-8022-c4ccdc441fc9"
      },
      "execution_count": null,
      "outputs": [
        {
          "output_type": "execute_result",
          "data": {
            "text/plain": [
              "int"
            ]
          },
          "metadata": {},
          "execution_count": 16
        }
      ]
    },
    {
      "cell_type": "code",
      "source": [
        "b = 50.5\n",
        "type(b)"
      ],
      "metadata": {
        "colab": {
          "base_uri": "https://localhost:8080/"
        },
        "id": "4ZbeFATpuBmK",
        "outputId": "b6eab33c-4ca6-49f1-c7c9-547d56445a49"
      },
      "execution_count": null,
      "outputs": [
        {
          "output_type": "execute_result",
          "data": {
            "text/plain": [
              "float"
            ]
          },
          "metadata": {},
          "execution_count": 17
        }
      ]
    },
    {
      "cell_type": "markdown",
      "source": [
        "## 문자형 타입\n",
        "- 문자로 이루어진 자료형\n",
        "- \"\" 큰따옴표나 ''작은따옴표 사이에 문자를 넣어 표시\n",
        "- 따옴표 사이에 수치형 데이터가 들어가면 문자형으로 취급함 "
      ],
      "metadata": {
        "id": "Owmty9yNi0jv"
      }
    },
    {
      "cell_type": "code",
      "source": [
        "a=\"1\"\n",
        "b=\"안녕\"\n",
        "print(a)"
      ],
      "metadata": {
        "colab": {
          "base_uri": "https://localhost:8080/"
        },
        "id": "PZ28Ls3Ui4Ln",
        "outputId": "08471c06-5c7e-4ff6-b33f-43fefec2c140"
      },
      "execution_count": 2,
      "outputs": [
        {
          "output_type": "stream",
          "name": "stdout",
          "text": [
            "1\n"
          ]
        }
      ]
    },
    {
      "cell_type": "markdown",
      "source": [
        "## Boolean 타입\n",
        "- True, False의 값을 갖는 자료형\n",
        "- None, 공백, 0인 경우에 False이고 이외의 값은 True\n",
        "- 비교연산자, 논리연산자의 결과값으로 반환됨"
      ],
      "metadata": {
        "id": "zMihwMVxuQae"
      }
    },
    {
      "cell_type": "code",
      "source": [
        "print(bool(1))"
      ],
      "metadata": {
        "colab": {
          "base_uri": "https://localhost:8080/"
        },
        "id": "YIh9YuRuuDby",
        "outputId": "f5fc37ef-3193-478e-8065-eee9f2339144"
      },
      "execution_count": null,
      "outputs": [
        {
          "output_type": "stream",
          "name": "stdout",
          "text": [
            "True\n"
          ]
        }
      ]
    },
    {
      "cell_type": "code",
      "source": [
        "print(bool(0))"
      ],
      "metadata": {
        "colab": {
          "base_uri": "https://localhost:8080/"
        },
        "id": "m-BMryaGufa6",
        "outputId": "423bcd38-55c7-42d5-ccb2-4ecfb66a6578"
      },
      "execution_count": null,
      "outputs": [
        {
          "output_type": "stream",
          "name": "stdout",
          "text": [
            "False\n"
          ]
        }
      ]
    },
    {
      "cell_type": "code",
      "source": [
        "print(())"
      ],
      "metadata": {
        "colab": {
          "base_uri": "https://localhost:8080/"
        },
        "id": "XEEpyZjBuhsy",
        "outputId": "09ea1231-5bf4-43d4-9385-0b9d769751fb"
      },
      "execution_count": null,
      "outputs": [
        {
          "output_type": "stream",
          "name": "stdout",
          "text": [
            "()\n"
          ]
        }
      ]
    },
    {
      "cell_type": "code",
      "source": [
        "print(bool(\"\"))"
      ],
      "metadata": {
        "colab": {
          "base_uri": "https://localhost:8080/"
        },
        "id": "-7egIzjqui3q",
        "outputId": "3b40d93f-1ea5-4079-ca14-27b203140ced"
      },
      "execution_count": null,
      "outputs": [
        {
          "output_type": "stream",
          "name": "stdout",
          "text": [
            "False\n"
          ]
        }
      ]
    },
    {
      "cell_type": "code",
      "source": [
        "print(bool(\"안녕\"))"
      ],
      "metadata": {
        "colab": {
          "base_uri": "https://localhost:8080/"
        },
        "id": "V4ncs7jKukby",
        "outputId": "bbcf5095-ce90-42bd-87e1-59d2dd3f9018"
      },
      "execution_count": null,
      "outputs": [
        {
          "output_type": "stream",
          "name": "stdout",
          "text": [
            "True\n"
          ]
        }
      ]
    },
    {
      "cell_type": "code",
      "source": [
        "1 == 1"
      ],
      "metadata": {
        "colab": {
          "base_uri": "https://localhost:8080/"
        },
        "id": "pomiGhTpumJz",
        "outputId": "56cededc-ba52-40a4-d10e-7e6768417fb2"
      },
      "execution_count": null,
      "outputs": [
        {
          "output_type": "execute_result",
          "data": {
            "text/plain": [
              "True"
            ]
          },
          "metadata": {},
          "execution_count": 23
        }
      ]
    },
    {
      "cell_type": "code",
      "source": [
        "1 == 0"
      ],
      "metadata": {
        "colab": {
          "base_uri": "https://localhost:8080/"
        },
        "id": "AOf6_u0Puprz",
        "outputId": "6a71be90-4d4b-4caf-ffa1-466874b5171a"
      },
      "execution_count": null,
      "outputs": [
        {
          "output_type": "execute_result",
          "data": {
            "text/plain": [
              "False"
            ]
          },
          "metadata": {},
          "execution_count": 24
        }
      ]
    },
    {
      "cell_type": "code",
      "source": [
        "1!=1 # 같지 않다"
      ],
      "metadata": {
        "colab": {
          "base_uri": "https://localhost:8080/"
        },
        "id": "FpjzuDZ4uqoa",
        "outputId": "3f39aaa3-1f04-42f7-a734-7f6eb7a25248"
      },
      "execution_count": null,
      "outputs": [
        {
          "output_type": "execute_result",
          "data": {
            "text/plain": [
              "False"
            ]
          },
          "metadata": {},
          "execution_count": 30
        }
      ]
    },
    {
      "cell_type": "code",
      "source": [
        "not 1 == 1 # 같지 않다"
      ],
      "metadata": {
        "colab": {
          "base_uri": "https://localhost:8080/"
        },
        "id": "5ry_7axzuv-a",
        "outputId": "374da122-fb55-49ef-aab8-277e9e0cb964"
      },
      "execution_count": null,
      "outputs": [
        {
          "output_type": "execute_result",
          "data": {
            "text/plain": [
              "False"
            ]
          },
          "metadata": {},
          "execution_count": 31
        }
      ]
    },
    {
      "cell_type": "code",
      "source": [
        "1 == 1 and 1 == 2"
      ],
      "metadata": {
        "colab": {
          "base_uri": "https://localhost:8080/"
        },
        "id": "Vrnl2YKIu5_y",
        "outputId": "8ef4883a-058e-46d2-831b-c075d7aabfd9"
      },
      "execution_count": null,
      "outputs": [
        {
          "output_type": "execute_result",
          "data": {
            "text/plain": [
              "False"
            ]
          },
          "metadata": {},
          "execution_count": 32
        }
      ]
    },
    {
      "cell_type": "code",
      "source": [
        "1 == 1 or 1 == 2"
      ],
      "metadata": {
        "colab": {
          "base_uri": "https://localhost:8080/"
        },
        "id": "qWD5WZmUvKbx",
        "outputId": "8b911647-2d00-4925-f283-ffd3d023faca"
      },
      "execution_count": null,
      "outputs": [
        {
          "output_type": "execute_result",
          "data": {
            "text/plain": [
              "True"
            ]
          },
          "metadata": {},
          "execution_count": 33
        }
      ]
    },
    {
      "cell_type": "code",
      "source": [
        "name=input()\n",
        "age=int(input())"
      ],
      "metadata": {
        "id": "6fAQ8XeTvLqZ",
        "colab": {
          "base_uri": "https://localhost:8080/"
        },
        "outputId": "0076fd74-c326-4d8e-a001-9f616a6e4324"
      },
      "execution_count": 5,
      "outputs": [
        {
          "name": "stdout",
          "output_type": "stream",
          "text": [
            "fk\n",
            "30\n"
          ]
        }
      ]
    },
    {
      "cell_type": "code",
      "source": [
        "type(age)"
      ],
      "metadata": {
        "colab": {
          "base_uri": "https://localhost:8080/"
        },
        "id": "01raZCPiz2ST",
        "outputId": "ba87430a-2b47-432b-a56a-4c2195329b2a"
      },
      "execution_count": 6,
      "outputs": [
        {
          "output_type": "execute_result",
          "data": {
            "text/plain": [
              "int"
            ]
          },
          "metadata": {},
          "execution_count": 6
        }
      ]
    },
    {
      "cell_type": "code",
      "source": [
        "age=float(input())"
      ],
      "metadata": {
        "id": "E-7hPZLAz5cB",
        "colab": {
          "base_uri": "https://localhost:8080/"
        },
        "outputId": "0818aec0-6dc7-4d6d-9cfe-443cb862c8a8"
      },
      "execution_count": 8,
      "outputs": [
        {
          "name": "stdout",
          "output_type": "stream",
          "text": [
            "50\n"
          ]
        }
      ]
    },
    {
      "cell_type": "code",
      "source": [
        "print(\"저의 이름은 ...이고 나이는... 입니다.\")"
      ],
      "metadata": {
        "id": "FOv7TdlL0tlJ",
        "colab": {
          "base_uri": "https://localhost:8080/"
        },
        "outputId": "b4feaa4f-0861-4778-a877-bd4301976306"
      },
      "execution_count": 10,
      "outputs": [
        {
          "output_type": "stream",
          "name": "stdout",
          "text": [
            "저의 이름은 ...이고 나이는... 입니다.\n"
          ]
        }
      ]
    },
    {
      "cell_type": "code",
      "source": [
        "for i in range(1, 10):\n",
        "  print((\"------{}-------\").format(i))\n",
        "  for j in range(0, 10):\n",
        "    print(i*j)\n",
        "    "
      ],
      "metadata": {
        "colab": {
          "base_uri": "https://localhost:8080/"
        },
        "id": "jIiU93qmjf3P",
        "outputId": "18f8cd9f-4032-468e-e0d9-f834903c61b2"
      },
      "execution_count": 18,
      "outputs": [
        {
          "output_type": "stream",
          "name": "stdout",
          "text": [
            "------1-------\n",
            "0\n",
            "1\n",
            "2\n",
            "3\n",
            "4\n",
            "5\n",
            "6\n",
            "7\n",
            "8\n",
            "9\n",
            "------2-------\n",
            "0\n",
            "2\n",
            "4\n",
            "6\n",
            "8\n",
            "10\n",
            "12\n",
            "14\n",
            "16\n",
            "18\n",
            "------3-------\n",
            "0\n",
            "3\n",
            "6\n",
            "9\n",
            "12\n",
            "15\n",
            "18\n",
            "21\n",
            "24\n",
            "27\n",
            "------4-------\n",
            "0\n",
            "4\n",
            "8\n",
            "12\n",
            "16\n",
            "20\n",
            "24\n",
            "28\n",
            "32\n",
            "36\n",
            "------5-------\n",
            "0\n",
            "5\n",
            "10\n",
            "15\n",
            "20\n",
            "25\n",
            "30\n",
            "35\n",
            "40\n",
            "45\n",
            "------6-------\n",
            "0\n",
            "6\n",
            "12\n",
            "18\n",
            "24\n",
            "30\n",
            "36\n",
            "42\n",
            "48\n",
            "54\n",
            "------7-------\n",
            "0\n",
            "7\n",
            "14\n",
            "21\n",
            "28\n",
            "35\n",
            "42\n",
            "49\n",
            "56\n",
            "63\n",
            "------8-------\n",
            "0\n",
            "8\n",
            "16\n",
            "24\n",
            "32\n",
            "40\n",
            "48\n",
            "56\n",
            "64\n",
            "72\n",
            "------9-------\n",
            "0\n",
            "9\n",
            "18\n",
            "27\n",
            "36\n",
            "45\n",
            "54\n",
            "63\n",
            "72\n",
            "81\n"
          ]
        }
      ]
    },
    {
      "cell_type": "code",
      "source": [
        "exam=[60,80,95,69,90,81,80,69,79,66,70,90,96]"
      ],
      "metadata": {
        "id": "Xwd24MPekKr_"
      },
      "execution_count": 24,
      "outputs": []
    },
    {
      "cell_type": "code",
      "source": [
        "sum=0\n",
        "for i in range(1,11):\n",
        "  sum+=2\n",
        "  print((\"i의 값 : {}, 합계 : {}\").format(i, sum))\n",
        "  "
      ],
      "metadata": {
        "colab": {
          "base_uri": "https://localhost:8080/"
        },
        "id": "eGGrm7NslZoH",
        "outputId": "6f4983e1-3d19-4cd0-9a33-155912ca8e47"
      },
      "execution_count": 28,
      "outputs": [
        {
          "output_type": "stream",
          "name": "stdout",
          "text": [
            "i의 값 : 1, 합계 : 2\n",
            "i의 값 : 2, 합계 : 4\n",
            "i의 값 : 3, 합계 : 6\n",
            "i의 값 : 4, 합계 : 8\n",
            "i의 값 : 5, 합계 : 10\n",
            "i의 값 : 6, 합계 : 12\n",
            "i의 값 : 7, 합계 : 14\n",
            "i의 값 : 8, 합계 : 16\n",
            "i의 값 : 9, 합계 : 18\n",
            "i의 값 : 10, 합계 : 20\n"
          ]
        }
      ]
    },
    {
      "cell_type": "code",
      "source": [],
      "metadata": {
        "id": "PwggAw-dlczW"
      },
      "execution_count": null,
      "outputs": []
    }
  ]
}